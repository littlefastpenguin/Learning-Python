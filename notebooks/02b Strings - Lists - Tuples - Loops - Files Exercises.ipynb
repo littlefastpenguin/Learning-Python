{
 "cells": [
  {
   "cell_type": "markdown",
   "metadata": {},
   "source": [
    "## Exercise 2.1\n",
    "\n",
    "Slice the string 'seehemewe' to produce the following substrings:\n",
    "\n",
    "'see'\n",
    "\n",
    "'he'\n",
    "\n",
    "'me'\n",
    "\n",
    "'we'\n",
    "\n",
    "'hem'\n",
    "\n",
    "'meh'\n",
    "\n",
    "'wee'"
   ]
  },
  {
   "cell_type": "code",
   "execution_count": 1,
   "metadata": {},
   "outputs": [
    {
     "name": "stdout",
     "output_type": "stream",
     "text": [
      "seehemewe = see\n",
      "seehemewe = he\n",
      "seehemewe = me\n",
      "seehemewe = we\n",
      "seehemewe = hem\n",
      "seehemewe = meh\n",
      "seehemewe = wee\n"
     ]
    }
   ],
   "source": [
    "s = 'seehemewe'\n",
    "# ----------------------- #\n",
    "# COMPLETE THIS CODE\n",
    "print(s, '= see')\n",
    "print(s, '= he')\n",
    "print(s, '= me')\n",
    "print(s, '= we')\n",
    "print(s, '= hem')\n",
    "print(s, '= meh')\n",
    "print(s, '= wee')\n",
    "# ----------------------- #"
   ]
  },
  {
   "cell_type": "markdown",
   "metadata": {},
   "source": [
    "## Exercise 2.2\n",
    "\n",
    "Write a single-line expression for determining if a string is a palindrome (reads the same forward and backward)"
   ]
  },
  {
   "cell_type": "code",
   "execution_count": 2,
   "metadata": {},
   "outputs": [
    {
     "name": "stdout",
     "output_type": "stream",
     "text": [
      "False\n"
     ]
    }
   ],
   "source": [
    "s = 'rotator'\n",
    "\n",
    "# ----------------------------------- #\n",
    "# COMPLETE THIS CODE IN A SINGLE LINE\n",
    "is_palindrome = False\n",
    "# ----------------------------------- #\n",
    "\n",
    "print(is_palindrome)"
   ]
  },
  {
   "cell_type": "markdown",
   "metadata": {},
   "source": [
    "## Exercise 2.3\n",
    "\n",
    "Modify the code you wrote earlier to make it 'smarter' to determine if a given sentence is a palindrome, by ignoring case, spaces and punctuation symbols (consider only commas and exclamation marks for now)."
   ]
  },
  {
   "cell_type": "code",
   "execution_count": 3,
   "metadata": {},
   "outputs": [
    {
     "name": "stdout",
     "output_type": "stream",
     "text": [
      "False\n"
     ]
    }
   ],
   "source": [
    "s = 'A man, a plan, a canal, Panama!'\n",
    "\n",
    "# -------------------- #\n",
    "# COMPLETE THIS CODE\n",
    "is_palindrome = False\n",
    "# -------------------- #\n",
    "\n",
    "print(is_palindrome)"
   ]
  },
  {
   "cell_type": "markdown",
   "metadata": {},
   "source": [
    "## Exercise 2.4\n",
    "\n",
    "Write a Python program to normalize a list of numbers, `items`, such that its values lie between 0 and 1. For example, the list `items = [2, 4, 10, 6, 8, 4]` becomes `[0.2, 0.4, 1.0, 0.6, 0.8, 0.4]`"
   ]
  },
  {
   "cell_type": "code",
   "execution_count": 4,
   "metadata": {},
   "outputs": [],
   "source": [
    "items = [2, 4, 10, 6, 8, 4]\n",
    "\n",
    "# -------------------- #\n",
    "# COMPLETE THIS CODE\n",
    "# ???\n",
    "# -------------------- #"
   ]
  },
  {
   "cell_type": "markdown",
   "metadata": {},
   "source": [
    "## Exercise 2.5\n",
    "\n",
    "Use a `for` loop to calculate $\\pi$ from the first 20 terms of the *Madhava* series:\n",
    "\n",
    "$$ \\pi = \\sqrt{12} (1 - \\frac{1}{3.3} + \\frac{1}{5.3^2} - \\frac{1}{7.3^3} + ...) $$"
   ]
  },
  {
   "cell_type": "code",
   "execution_count": 5,
   "metadata": {},
   "outputs": [
    {
     "name": "stdout",
     "output_type": "stream",
     "text": [
      "0\n"
     ]
    }
   ],
   "source": [
    "terms = 100\n",
    "result = 0\n",
    "\n",
    "# -------------------- #\n",
    "# Question: How do you ensure that alternate terms have alternate signs?\n",
    "# Hint: If you're getting an incorrect answer - check the value of -1**0. Is it what you expect?\n",
    "#\n",
    "# COMPLETE THIS CODE\n",
    "# ???\n",
    "# -------------------- #\n",
    "\n",
    "print(result)   "
   ]
  },
  {
   "cell_type": "markdown",
   "metadata": {},
   "source": [
    "## Exercise 2.6\n",
    "\n",
    "The game of \"Fizzbuzz\" involves counting, but replacing numbers divisible by 3 with the word *'Fizz'*, those divisible by 5 with *'Buzz'*, and those divisible by both 3 and 5 with *'FizzBuz'*. Write a program to play this game, counting up to to 100."
   ]
  },
  {
   "cell_type": "code",
   "execution_count": 6,
   "metadata": {},
   "outputs": [],
   "source": [
    "n = 100\n",
    "\n",
    "# -------------------- #\n",
    "# COMPLETE THIS CODE\n",
    "# -------------------- #"
   ]
  },
  {
   "cell_type": "markdown",
   "metadata": {},
   "source": [
    "## Exercise 2.7\n",
    "\n",
    "In the Gregorian calendar a year is a *leap year* if it is divisible by 4 with the exceptions that years divisible by 100 are *not* leap years unless they are also divisible by 400. Write a Python program to determine if `year` is a leap year."
   ]
  },
  {
   "cell_type": "code",
   "execution_count": 7,
   "metadata": {},
   "outputs": [
    {
     "name": "stdout",
     "output_type": "stream",
     "text": [
      "False\n"
     ]
    }
   ],
   "source": [
    "year = 1900\n",
    "\n",
    "is_leap = False\n",
    "\n",
    "# -------------------- #\n",
    "# COMPLETE THIS CODE\n",
    "# ???\n",
    "# -------------------- #\n",
    "\n",
    "print(is_leap)"
   ]
  },
  {
   "cell_type": "markdown",
   "metadata": {},
   "source": [
    "## Exercise 2.8\n",
    "\n",
    "Read the file `numbers.txt` and print out the sum of all the numbers in that file."
   ]
  },
  {
   "cell_type": "code",
   "execution_count": 8,
   "metadata": {},
   "outputs": [
    {
     "name": "stdout",
     "output_type": "stream",
     "text": [
      "0\n"
     ]
    }
   ],
   "source": [
    "filename = 'numbers.txt'\n",
    "total = 0\n",
    "\n",
    "# -------------------- #\n",
    "# COMPLETE THIS CODE\n",
    "# ???\n",
    "# -------------------- #\n",
    "\n",
    "print(total)"
   ]
  },
  {
   "cell_type": "markdown",
   "metadata": {},
   "source": [
    "\n",
    "## Exercise 2.9\n",
    "\n",
    "The coast redwood tree species, *Sequoia sempervirens*, includes some of the oldest and tallest living organisms on Earth. Some details concerning individual trees are given in the tab-delimited text file [redwood-data.txt](redwood-data.txt) (data courtesy of the [Gymnosperm database](http://www.conifers.org/cu/Sequoia.php).)\n",
    "\n",
    "Write a Python program to read in this data and report the tallest tree and the tree with the greatest diameter."
   ]
  },
  {
   "cell_type": "code",
   "execution_count": 9,
   "metadata": {},
   "outputs": [],
   "source": [
    "# -------------------------------------------------------- #\n",
    "# Program to read the tab-delimited text file and report\n",
    "# 1. Tallest Tree\n",
    "# 2. Tree with greatest diameter\n",
    "# \n",
    "# COMPLETE THIS CODE\n",
    "# ???\n",
    "# -------------------------------------------------------- #"
   ]
  }
 ],
 "metadata": {
  "kernelspec": {
   "display_name": "Python 3",
   "language": "python",
   "name": "python3"
  },
  "language_info": {
   "codemirror_mode": {
    "name": "ipython",
    "version": 3
   },
   "file_extension": ".py",
   "mimetype": "text/x-python",
   "name": "python",
   "nbconvert_exporter": "python",
   "pygments_lexer": "ipython3",
   "version": "3.6.3"
  }
 },
 "nbformat": 4,
 "nbformat_minor": 2
}
