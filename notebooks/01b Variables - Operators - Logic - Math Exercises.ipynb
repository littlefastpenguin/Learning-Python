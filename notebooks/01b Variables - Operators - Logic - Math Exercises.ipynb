{
 "cells": [
  {
   "cell_type": "markdown",
   "metadata": {},
   "source": [
    "## Exercise 1.1\n",
    "*Heron's formula* gives the area, A, of a triangle with sides a, b, c as:\n",
    "\n",
    "$$A = \\sqrt{s(s-a)(s-b)(s-c)}\\ where\\ s = \\frac{1}{2}(a + b + c)$$\n",
    "\n",
    "Calculate the area of a triangle with sides:\n",
    "\n",
    "a = 2.153\n",
    "\n",
    "b = 5.321\n",
    "\n",
    "c = 3.396"
   ]
  },
  {
   "cell_type": "code",
   "execution_count": 6,
   "metadata": {},
   "outputs": [
    {
     "name": "stdout",
     "output_type": "stream",
     "text": [
      "0\n"
     ]
    }
   ],
   "source": [
    "a = 2.153\n",
    "b = 5.321\n",
    "c = 3.396\n",
    "\n",
    "# ----------------------- #\n",
    "# COMPLETE THIS CODE\n",
    "A = 0\n",
    "# ----------------------- #\n",
    "\n",
    "print(A)"
   ]
  },
  {
   "cell_type": "markdown",
   "metadata": {},
   "source": [
    "## Exercise 1.2\n",
    "\n",
    "Modules give us not only functions, but also useful `constants`. Calculate the area of a circle given its radius `r` = 5.431\n",
    "\n",
    "$$A = \\pi r^{2}$$"
   ]
  },
  {
   "cell_type": "code",
   "execution_count": 8,
   "metadata": {},
   "outputs": [
    {
     "name": "stdout",
     "output_type": "stream",
     "text": [
      "0\n"
     ]
    }
   ],
   "source": [
    "r = 5.431\n",
    "\n",
    "# ----------------------- #\n",
    "# COMPLETE THIS CODE\n",
    "A = 0\n",
    "# ----------------------- #\n",
    "\n",
    "print(A)"
   ]
  },
  {
   "cell_type": "markdown",
   "metadata": {},
   "source": [
    "## Exercise 1.3\n",
    "Explain the surprising behavior of the following short code. What's the lesson here?"
   ]
  },
  {
   "cell_type": "code",
   "execution_count": 23,
   "metadata": {},
   "outputs": [
    {
     "name": "stdout",
     "output_type": "stream",
     "text": [
      "16.88210319127114\n"
     ]
    }
   ],
   "source": [
    "d = 8\n",
    "e = 2\n",
    "from math import *\n",
    "\n",
    "result = sqrt(d ** e)\n",
    "# This should print 8\n",
    "print(result)"
   ]
  },
  {
   "cell_type": "markdown",
   "metadata": {},
   "source": [
    "## Exercise 1.4\n",
    "How many times must a sheet of paper (thickness, t = 0.1 mm) be folded to reach the moon (distance from Earth, d = 384,400 km)?"
   ]
  },
  {
   "cell_type": "code",
   "execution_count": 22,
   "metadata": {},
   "outputs": [
    {
     "name": "stdout",
     "output_type": "stream",
     "text": [
      "0\n"
     ]
    }
   ],
   "source": [
    "# thickness in mm\n",
    "t = 0.1\n",
    "# distance in km\n",
    "d = 384400\n",
    "\n",
    "# ----------------------- #\n",
    "# COMPLETE THIS CODE\n",
    "result = 0\n",
    "# ----------------------- #\n",
    "\n",
    "print(result)"
   ]
  },
  {
   "cell_type": "markdown",
   "metadata": {},
   "source": [
    "## Bonus\n",
    "\n",
    "What's the best way to \"package\" what we've done in the Exercises above so others can use it?\n",
    "\n",
    "- Would we rely on hardcoding the values (radius, sides of the triangle etc.) above in our programs?\n",
    "- Would printing the result on screen be useful to everyone?\n",
    "- Does it make sense to think of our code as a \"black box\" (function) with inputs and outputs?\n",
    "\n",
    "Hint: Think of how the `math.sqrt` function worked. "
   ]
  }
 ],
 "metadata": {
  "kernelspec": {
   "display_name": "Python 3",
   "language": "python",
   "name": "python3"
  },
  "language_info": {
   "codemirror_mode": {
    "name": "ipython",
    "version": 3
   },
   "file_extension": ".py",
   "mimetype": "text/x-python",
   "name": "python",
   "nbconvert_exporter": "python",
   "pygments_lexer": "ipython3",
   "version": "3.6.3"
  }
 },
 "nbformat": 4,
 "nbformat_minor": 2
}
