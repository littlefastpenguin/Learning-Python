{
 "cells": [
  {
   "cell_type": "markdown",
   "metadata": {},
   "source": [
    "## Exercise 1.1\n",
    "*Heron's formula* gives the area, A, of a triangle with sides a, b, c as:\n",
    "\n",
    "$$A = \\sqrt{s(s-a)(s-b)(s-c)}\\ where\\ s = \\frac{1}{2}(a + b + c)$$\n",
    "\n",
    "Calculate the area of a triangle with sides:\n",
    "\n",
    "a = 2.153\n",
    "\n",
    "b = 6.321\n",
    "\n",
    "c = 2.396"
   ]
  },
  {
   "cell_type": "code",
   "execution_count": 1,
   "metadata": {},
   "outputs": [
    {
     "name": "stdout",
     "output_type": "stream",
     "text": [
      "0\n"
     ]
    }
   ],
   "source": [
    "a = 2.153\n",
    "b = 6.321\n",
    "c = 2.396\n",
    "\n",
    "# ----------------------- #\n",
    "# COMPLETE THIS CODE\n",
    "A = 0\n",
    "# ----------------------- #\n",
    "\n",
    "print(A)"
   ]
  },
  {
   "cell_type": "markdown",
   "metadata": {},
   "source": [
    "## Exercise 1.2\n",
    "\n",
    "Calculate the area of a circle given its radius.\n",
    "\n",
    "$$A = \\pi r^{2}$$"
   ]
  },
  {
   "cell_type": "markdown",
   "metadata": {},
   "source": [
    "## Exercise 1.3\n",
    "Explain the surprising behavior of the following short code:"
   ]
  },
  {
   "cell_type": "code",
   "execution_count": 2,
   "metadata": {},
   "outputs": [
    {
     "name": "stdout",
     "output_type": "stream",
     "text": [
      "16.88210319127114\n"
     ]
    }
   ],
   "source": [
    "d = 8\n",
    "e = 2\n",
    "from math import *\n",
    "\n",
    "result = sqrt(d ** e)\n",
    "# This should print 8\n",
    "print(result)"
   ]
  },
  {
   "cell_type": "markdown",
   "metadata": {},
   "source": [
    "## Exercise 1.4\n",
    "How many times must a sheet of paper (thickness, t = 0.1 mm) be folded to reach the moon (distance from Earth, d = 384,400 km)?"
   ]
  },
  {
   "cell_type": "code",
   "execution_count": 3,
   "metadata": {},
   "outputs": [
    {
     "name": "stdout",
     "output_type": "stream",
     "text": [
      "0\n"
     ]
    }
   ],
   "source": [
    "# thickness in mm\n",
    "t = 0.1\n",
    "# distance in km\n",
    "d = 384400\n",
    "\n",
    "# ----------------------- #\n",
    "# COMPLETE THIS CODE\n",
    "result = 0\n",
    "# ----------------------- #\n",
    "\n",
    "print(result)"
   ]
  }
 ],
 "metadata": {
  "kernelspec": {
   "display_name": "Python 3",
   "language": "python",
   "name": "python3"
  },
  "language_info": {
   "codemirror_mode": {
    "name": "ipython",
    "version": 3
   },
   "file_extension": ".py",
   "mimetype": "text/x-python",
   "name": "python",
   "nbconvert_exporter": "python",
   "pygments_lexer": "ipython3",
   "version": "3.6.3"
  }
 },
 "nbformat": 4,
 "nbformat_minor": 2
}
