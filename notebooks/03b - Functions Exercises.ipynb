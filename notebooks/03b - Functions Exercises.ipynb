{
 "cells": [
  {
   "cell_type": "markdown",
   "metadata": {},
   "source": [
    "## Exercise 3.1\n",
    "\n",
    "Take any one of your solutions for exercises 1.1-1.3 or 2.1-2.10 and convert the core logic of your code to a function. Pay special attention to:\n",
    "\n",
    "- The name of the function\n",
    "- The name of the arguments\n",
    "- The order of the arguments\n",
    "- Can any argument be given a sensible default value?"
   ]
  },
  {
   "cell_type": "markdown",
   "metadata": {},
   "source": [
    "## Exercise 3.2\n",
    "\n",
    "The maximum number of slices a circular pizza can be divided into, using `n` number of cuts, is given by the recursive formula:\n",
    "    \n",
    "$$\n",
    "f(n) = f(n - 1) + n\n",
    "$$\n",
    "\n",
    "Write a program to print the maximum number of slices possible using `10` cuts. Don't forget to specify the base case!"
   ]
  },
  {
   "cell_type": "code",
   "execution_count": 4,
   "metadata": {},
   "outputs": [
    {
     "name": "stdout",
     "output_type": "stream",
     "text": [
      "0\n"
     ]
    }
   ],
   "source": [
    "cuts = 10\n",
    "\n",
    "# ----------------------- #\n",
    "# COMPLETE THIS CODE\n",
    "slices = 0\n",
    "# ----------------------- #\n",
    "\n",
    "print(slices)"
   ]
  }
 ],
 "metadata": {
  "kernelspec": {
   "display_name": "Python 3",
   "language": "python",
   "name": "python3"
  },
  "language_info": {
   "codemirror_mode": {
    "name": "ipython",
    "version": 3
   },
   "file_extension": ".py",
   "mimetype": "text/x-python",
   "name": "python",
   "nbconvert_exporter": "python",
   "pygments_lexer": "ipython3",
   "version": "3.6.3"
  }
 },
 "nbformat": 4,
 "nbformat_minor": 2
}
