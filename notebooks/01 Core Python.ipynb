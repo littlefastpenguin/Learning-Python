{
 "cells": [
  {
   "cell_type": "markdown",
   "metadata": {},
   "source": [
    "# Numbers\n",
    "\n",
    "## Exercise 1\n",
    "*Heron's formula* gives the area, A, of a triangle with sides a, b, c as:\n",
    "\n",
    "$$A = \\sqrt{s(s-a)(s-b)(s-c)}\\ where\\ s = \\frac{1}{2}(a + b + c)$$\n",
    "\n",
    "Calculate the area of a triangle with sides:\n",
    "\n",
    "a = 2.153\n",
    "\n",
    "b = 6.321\n",
    "\n",
    "c = 2.396"
   ]
  },
  {
   "cell_type": "code",
   "execution_count": 9,
   "metadata": {},
   "outputs": [
    {
     "name": "stdout",
     "output_type": "stream",
     "text": [
      "0\n"
     ]
    }
   ],
   "source": [
    "a = 2.153\n",
    "b = 6.321\n",
    "c = 2.396\n",
    "\n",
    "# ----------------------- #\n",
    "# COMPLETE THIS CODE\n",
    "A = 0\n",
    "# ----------------------- #\n",
    "\n",
    "print(A)"
   ]
  },
  {
   "cell_type": "markdown",
   "metadata": {},
   "source": [
    "## Exercise 2\n",
    "Explain the surprising behavior of the following short code:"
   ]
  },
  {
   "cell_type": "code",
   "execution_count": 15,
   "metadata": {},
   "outputs": [
    {
     "name": "stdout",
     "output_type": "stream",
     "text": [
      "16.88210319127114\n"
     ]
    }
   ],
   "source": [
    "d = 8\n",
    "e = 2\n",
    "from math import *\n",
    "\n",
    "result = sqrt(d ** e)\n",
    "# This should print 8\n",
    "print(result)"
   ]
  },
  {
   "cell_type": "markdown",
   "metadata": {},
   "source": [
    "## Exercise 3\n",
    "How many times must a sheet of paper (thickness, t = 0.1 mm) be folded to reach the moon (distance from Earth, d = 384,400 km)?"
   ]
  },
  {
   "cell_type": "code",
   "execution_count": null,
   "metadata": {},
   "outputs": [],
   "source": [
    "# thickness in mm\n",
    "t = 0.1\n",
    "# distance in km\n",
    "d = 384400\n",
    "\n",
    "# ----------------------- #\n",
    "# COMPLETE THIS CODE\n",
    "result = 0\n",
    "# ----------------------- #\n",
    "\n",
    "print(result)"
   ]
  },
  {
   "cell_type": "markdown",
   "metadata": {},
   "source": [
    "# Strings\n",
    "\n",
    "## Exercise 4\n",
    "\n",
    "Change the following greeting to print Hello in your native language script (or your favorite foreign language!)"
   ]
  },
  {
   "cell_type": "code",
   "execution_count": 7,
   "metadata": {},
   "outputs": [
    {
     "name": "stdout",
     "output_type": "stream",
     "text": [
      "Hello\n"
     ]
    }
   ],
   "source": [
    "print('Hello')"
   ]
  },
  {
   "cell_type": "markdown",
   "metadata": {},
   "source": [
    "## Exercise 5\n",
    "\n",
    "Slice the string 'seehemewe' to produce the following substrings:\n",
    "\n",
    "'see'\n",
    "\n",
    "'he'\n",
    "\n",
    "'me'\n",
    "\n",
    "'we'\n",
    "\n",
    "'hem'\n",
    "\n",
    "'meh'\n",
    "\n",
    "'wee'"
   ]
  },
  {
   "cell_type": "code",
   "execution_count": 8,
   "metadata": {},
   "outputs": [
    {
     "name": "stdout",
     "output_type": "stream",
     "text": [
      "seehemewe = see\n",
      "seehemewe = he\n",
      "seehemewe = me\n",
      "seehemewe = we\n",
      "seehemewe = hem\n",
      "seehemewe = meh\n",
      "seehemewe = wee\n"
     ]
    }
   ],
   "source": [
    "s = 'seehemewe'\n",
    "# ----------------------- #\n",
    "# COMPLETE THIS CODE\n",
    "print(s, '= see')\n",
    "print(s, '= he')\n",
    "print(s, '= me')\n",
    "print(s, '= we')\n",
    "print(s, '= hem')\n",
    "print(s, '= meh')\n",
    "print(s, '= wee')\n",
    "# ----------------------- #"
   ]
  },
  {
   "cell_type": "markdown",
   "metadata": {},
   "source": [
    "## Exercise 6.1\n",
    "\n",
    "Write a single-line expression for determining if a string is a palindrome (reads the same forward and backward)"
   ]
  },
  {
   "cell_type": "code",
   "execution_count": 13,
   "metadata": {},
   "outputs": [
    {
     "name": "stdout",
     "output_type": "stream",
     "text": [
      "False\n"
     ]
    }
   ],
   "source": [
    "s = 'rotator'\n",
    "\n",
    "# ----------------------------------- #\n",
    "# COMPLETE THIS CODE IN A SINGLE LINE\n",
    "is_palindrome = False\n",
    "# ----------------------------------- #\n",
    "\n",
    "print(is_palindrome)"
   ]
  },
  {
   "cell_type": "markdown",
   "metadata": {},
   "source": [
    "## Exercise 6.2\n",
    "\n",
    "Modify the code you wrote earlier to make it 'smarter' to determine if a given sentence is a palindrome, by ignoring case, spaces and punctuation symbols (consider only commas for now)."
   ]
  },
  {
   "cell_type": "code",
   "execution_count": null,
   "metadata": {},
   "outputs": [],
   "source": [
    "s = 'A man, a plan, a canal, Panama'\n",
    "\n",
    "# -------------------- #\n",
    "# COMPLETE THIS CODE\n",
    "is_palindrome = False\n",
    "# -------------------- #\n",
    "\n",
    "print(is_palindrome)"
   ]
  }
 ],
 "metadata": {
  "kernelspec": {
   "display_name": "Python 3",
   "language": "python",
   "name": "python3"
  },
  "language_info": {
   "codemirror_mode": {
    "name": "ipython",
    "version": 3
   },
   "file_extension": ".py",
   "mimetype": "text/x-python",
   "name": "python",
   "nbconvert_exporter": "python",
   "pygments_lexer": "ipython3",
   "version": "3.6.3"
  }
 },
 "nbformat": 4,
 "nbformat_minor": 2
}
