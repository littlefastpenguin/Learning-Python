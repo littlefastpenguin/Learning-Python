{
 "cells": [
  {
   "cell_type": "markdown",
   "metadata": {},
   "source": [
    "## Exercise 5.1\n",
    "\n",
    "Given n, create a n x n matrix `M` of random values between 0 and 1. Multiply it by an Identity Matrix and verify that the result is unchanged from `M`.\n",
    "\n",
    "$$\n",
    "    M * I= M\n",
    "$$\n",
    "\n",
    "Numpy Functions that might come in handy here are `np.random.random`, `np.matmul`, `np.eye` and `np.allclose`."
   ]
  },
  {
   "cell_type": "code",
   "execution_count": 5,
   "metadata": {},
   "outputs": [],
   "source": [
    "import numpy as np\n",
    "\n",
    "n = 5\n",
    "# ----------------------- #\n",
    "# COMPLETE THIS CODE\n",
    "# M = ??\n",
    "# ----------------------- #"
   ]
  },
  {
   "cell_type": "markdown",
   "metadata": {},
   "source": [
    "## Exercise 5.2\n",
    "\n",
    "Given `m` and `n`, create two `m x n` matrices `A` and `B` of random values and verify the following mathematical identities:\n",
    "\n",
    "$$\n",
    "    (A + B)^{T} = A^{T} + B^{T}\n",
    "$$\n",
    "$$\n",
    "    (AB)^{T} = B^{T}A^{T}\n",
    "$$\n",
    "\n",
    "Numpy Functions that might come in handy here are `np.random.random`, `np.matmul` and `np.allclose`. Also, remember that ndarrays have a `transpose()` *method*, or a `T` *property* that returns its transpose."
   ]
  },
  {
   "cell_type": "code",
   "execution_count": 4,
   "metadata": {},
   "outputs": [],
   "source": [
    "import numpy as np\n",
    "\n",
    "m = 4\n",
    "n = 5\n",
    "# ----------------------- #\n",
    "# COMPLETE THIS CODE\n",
    "# A = ??\n",
    "# ----------------------- #"
   ]
  }
 ],
 "metadata": {
  "kernelspec": {
   "display_name": "Python 3",
   "language": "python",
   "name": "python3"
  },
  "language_info": {
   "codemirror_mode": {
    "name": "ipython",
    "version": 3
   },
   "file_extension": ".py",
   "mimetype": "text/x-python",
   "name": "python",
   "nbconvert_exporter": "python",
   "pygments_lexer": "ipython3",
   "version": "3.6.3"
  }
 },
 "nbformat": 4,
 "nbformat_minor": 2
}
